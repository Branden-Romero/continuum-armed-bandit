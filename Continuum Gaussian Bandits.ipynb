{
 "cells": [
  {
   "cell_type": "code",
   "execution_count": 16,
   "metadata": {
    "collapsed": false
   },
   "outputs": [
    {
     "name": "stdout",
     "output_type": "stream",
     "text": [
      "The autoreload extension is already loaded. To reload it, use:\n",
      "  %reload_ext autoreload\n"
     ]
    }
   ],
   "source": [
    "%load_ext autoreload\n",
    "%autoreload 2\n",
    "from sklearn import datasets\n",
    "import numpy as np"
   ]
  },
  {
   "cell_type": "code",
   "execution_count": 17,
   "metadata": {
    "collapsed": false
   },
   "outputs": [],
   "source": [
    "from continuum_gaussian_bandits import ContinuumArmedBandit"
   ]
  },
  {
   "cell_type": "code",
   "execution_count": 18,
   "metadata": {
    "collapsed": true
   },
   "outputs": [],
   "source": [
    "X,y = datasets.make_regression(n_samples=500,n_features=32)"
   ]
  },
  {
   "cell_type": "code",
   "execution_count": 19,
   "metadata": {
    "collapsed": true
   },
   "outputs": [],
   "source": [
    "idxs = np.random.choice(500,25)\n",
    "X_train = X[idxs]\n",
    "y_train = y[idxs]"
   ]
  },
  {
   "cell_type": "code",
   "execution_count": 20,
   "metadata": {
    "collapsed": false
   },
   "outputs": [],
   "source": [
    "cab = ContinuumArmedBandit(X_train, y_train)"
   ]
  },
  {
   "cell_type": "markdown",
   "metadata": {},
   "source": [
    "Test Calculations"
   ]
  },
  {
   "cell_type": "code",
   "execution_count": 21,
   "metadata": {
    "collapsed": false
   },
   "outputs": [],
   "source": [
    "K = cab.gpr.K\n",
    "noise_var = cab.gpr.noise_var\n",
    "N = cab.N\n",
    "a = (K + noise_var * np.eye(N)).dot(y_train)"
   ]
  },
  {
   "cell_type": "code",
   "execution_count": 22,
   "metadata": {
    "collapsed": false
   },
   "outputs": [
    {
     "data": {
      "text/plain": [
       "<bound method KernelOperator.get_params of RBF(length_scale=[1.17, 1.05, 1.1, 0.758, 0.909, 0.944, 1.01, 1.05, 1.02, 0.875, 1.1, 0.88, 0.931, 0.954, 1.13, 0.924, 0.955, 0.941, 1.02, 1.06, 1.11, 1.04, 0.915, 0.984, 1.21, 1.03, 0.944, 1, 0.886, 1.16, 1.08, 0.996]) + WhiteKernel(noise_level=2.95e+04)>"
      ]
     },
     "execution_count": 22,
     "metadata": {},
     "output_type": "execute_result"
    }
   ],
   "source": [
    "cab.gpr.kernel_.get_params"
   ]
  },
  {
   "cell_type": "code",
   "execution_count": 23,
   "metadata": {
    "collapsed": false
   },
   "outputs": [
    {
     "data": {
      "text/plain": [
       "array([  653.11409607,  2266.31880298,  1311.21823455,  -574.21421901,\n",
       "        -610.48463709,   -98.99112212,   730.95131786,   184.45481352,\n",
       "        -797.25877418,  1454.74222426,  -234.54189994,   374.28205798,\n",
       "        1052.13411186,  -521.29382021,  2990.61292682,   296.7869975 ,\n",
       "        1000.10690037,   306.41426729,   -18.18452429,   821.93882939,\n",
       "         746.7112182 ,  1315.52789885,   -94.61760364,   486.96227046,\n",
       "        -829.14427244,  -181.64157346, -1539.00433047,  2033.42030298,\n",
       "        -664.86706606,    41.92061229,   361.73306354, -2457.76603464])"
      ]
     },
     "execution_count": 23,
     "metadata": {},
     "output_type": "execute_result"
    }
   ],
   "source": [
    "cab.select_action()"
   ]
  },
  {
   "cell_type": "code",
   "execution_count": 24,
   "metadata": {
    "collapsed": false
   },
   "outputs": [],
   "source": [
    "idx = np.random.choice(500)\n",
    "x = X[idx]"
   ]
  },
  {
   "cell_type": "code",
   "execution_count": 25,
   "metadata": {
    "collapsed": false
   },
   "outputs": [
    {
     "name": "stdout",
     "output_type": "stream",
     "text": [
      "1.0\n"
     ]
    }
   ],
   "source": [
    "m = cab.get_merit(x,X_train)\n",
    "print(m)"
   ]
  },
  {
   "cell_type": "code",
   "execution_count": 26,
   "metadata": {
    "collapsed": false
   },
   "outputs": [
    {
     "name": "stdout",
     "output_type": "stream",
     "text": [
      "[  653.11409607  2266.31880298  1311.21823455  -574.21421901  -610.48463709\n",
      "   -98.99112212   730.95131786   184.45481352  -797.25877418  1454.74222426\n",
      "  -234.54189994   374.28205798  1052.13411186  -521.29382021  2990.61292682\n",
      "   296.7869975   1000.10690037   306.41426729   -18.18452429   821.93882939\n",
      "   746.7112182   1315.52789885   -94.61760364   486.96227046  -829.14427244\n",
      "  -181.64157346 -1539.00433047  2033.42030298  -664.86706606    41.92061229\n",
      "   361.73306354 -2457.76603464]\n"
     ]
    }
   ],
   "source": [
    "x2 = cab.select_action()\n",
    "print(x2)"
   ]
  },
  {
   "cell_type": "code",
   "execution_count": 27,
   "metadata": {
    "collapsed": false
   },
   "outputs": [
    {
     "data": {
      "text/plain": [
       "array([ -3.43915971e-12,   3.84432772e-12,  -2.12942954e-12,\n",
       "        -1.59140558e-12,   3.68514688e-12,   2.39740223e-12,\n",
       "        -5.37993199e-12,   9.99939058e-14,   1.54286521e-12,\n",
       "        -4.14838161e-12,  -2.55858062e-12,  -2.10932496e-12,\n",
       "        -2.30973539e-12,   4.12893623e-12,  -1.93863058e-13,\n",
       "        -6.53835960e-12,   2.74049089e-13,  -4.63285911e-12,\n",
       "        -1.57473937e-12,   2.58365330e-12,  -3.11619074e-13,\n",
       "        -5.03351382e-12,   3.16169748e-12,  -2.53206394e-12,\n",
       "         1.51892947e-12,  -2.74256841e-13,   1.51587808e-12,\n",
       "         2.06565824e-12,   1.50882663e-12,  -2.19243824e-13,\n",
       "        -2.64838128e-12,  -1.90348450e-12])"
      ]
     },
     "execution_count": 27,
     "metadata": {},
     "output_type": "execute_result"
    }
   ],
   "source": [
    "cab.get_derivative_mean(x, X_train)"
   ]
  },
  {
   "cell_type": "code",
   "execution_count": 28,
   "metadata": {
    "collapsed": false
   },
   "outputs": [
    {
     "data": {
      "text/plain": [
       "array([ -1.50398457e-14,   8.78762401e-14,  -9.84777796e-14,\n",
       "        -4.27963359e-13,   2.25841984e-13,  -2.64342075e-13,\n",
       "        -1.11548979e-13,   1.24274006e-13,   2.36573367e-13,\n",
       "        -7.07877711e-14,   3.44297670e-13,  -1.44753905e-13,\n",
       "        -2.22370352e-13,  -1.67957004e-13,  -6.66078734e-14,\n",
       "        -3.39378214e-13,   3.54471166e-13,   1.73416141e-13,\n",
       "        -2.79964690e-13,  -6.76619910e-14,   2.11057816e-13,\n",
       "         4.59075797e-14,   3.77263167e-13,   2.80860132e-13,\n",
       "        -1.50691369e-13,   7.65208894e-14,  -1.75596176e-13,\n",
       "        -1.58175536e-13,   4.49138439e-13,   1.50783049e-14,\n",
       "        -2.60112076e-13,  -2.04156750e-14])"
      ]
     },
     "execution_count": 28,
     "metadata": {},
     "output_type": "execute_result"
    }
   ],
   "source": [
    "cab.get_derivative_std(x, X_train)"
   ]
  },
  {
   "cell_type": "code",
   "execution_count": 29,
   "metadata": {
    "collapsed": false
   },
   "outputs": [
    {
     "data": {
      "text/plain": [
       "array([ -3.45419956e-12,   3.93220396e-12,  -2.22790732e-12,\n",
       "        -2.01936894e-12,   3.91098886e-12,   2.13306016e-12,\n",
       "        -5.49148097e-12,   2.24267911e-13,   1.77943857e-12,\n",
       "        -4.21916938e-12,  -2.21428295e-12,  -2.25407887e-12,\n",
       "        -2.53210574e-12,   3.96097922e-12,  -2.60470932e-13,\n",
       "        -6.87773781e-12,   6.28520255e-13,  -4.45944296e-12,\n",
       "        -1.85470406e-12,   2.51599131e-12,  -1.00561258e-13,\n",
       "        -4.98760624e-12,   3.53896065e-12,  -2.25120380e-12,\n",
       "         1.36823810e-12,  -1.97735951e-13,   1.34028191e-12,\n",
       "         1.90748271e-12,   1.95796506e-12,  -2.04165519e-13,\n",
       "        -2.90849335e-12,  -1.92390018e-12])"
      ]
     },
     "execution_count": 29,
     "metadata": {},
     "output_type": "execute_result"
    }
   ],
   "source": [
    "cab.get_s(x, X_train)"
   ]
  },
  {
   "cell_type": "code",
   "execution_count": 30,
   "metadata": {
    "collapsed": false
   },
   "outputs": [
    {
     "data": {
      "text/plain": [
       "1.7860453451743732e-06"
      ]
     },
     "execution_count": 30,
     "metadata": {},
     "output_type": "execute_result"
    }
   ],
   "source": [
    "cab.get_q_mean(x, X_train)"
   ]
  }
 ],
 "metadata": {
  "anaconda-cloud": {},
  "kernelspec": {
   "display_name": "Python 3",
   "language": "python",
   "name": "python3"
  },
  "language_info": {
   "codemirror_mode": {
    "name": "ipython",
    "version": 3
   },
   "file_extension": ".py",
   "mimetype": "text/x-python",
   "name": "python",
   "nbconvert_exporter": "python",
   "pygments_lexer": "ipython3",
   "version": "3.5.2"
  }
 },
 "nbformat": 4,
 "nbformat_minor": 1
}
