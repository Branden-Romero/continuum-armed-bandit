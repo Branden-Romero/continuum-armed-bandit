{
 "cells": [
  {
   "cell_type": "code",
   "execution_count": 3,
   "metadata": {
    "collapsed": false
   },
   "outputs": [
    {
     "name": "stdout",
     "output_type": "stream",
     "text": [
      "The autoreload extension is already loaded. To reload it, use:\n",
      "  %reload_ext autoreload\n"
     ]
    }
   ],
   "source": [
    "%load_ext autoreload\n",
    "%autoreload 2\n",
    "from sklearn import datasets\n",
    "import numpy as np"
   ]
  },
  {
   "cell_type": "code",
   "execution_count": 4,
   "metadata": {
    "collapsed": false
   },
   "outputs": [],
   "source": [
    "from continuum_gaussian_bandits import ContinuumArmedBandit"
   ]
  },
  {
   "cell_type": "code",
   "execution_count": 5,
   "metadata": {
    "collapsed": true
   },
   "outputs": [],
   "source": [
    "X,y = datasets.make_regression(n_samples=500,n_features=32)"
   ]
  },
  {
   "cell_type": "code",
   "execution_count": 6,
   "metadata": {
    "collapsed": true
   },
   "outputs": [],
   "source": [
    "idxs = np.random.choice(500,25)\n",
    "X_train = X[idxs]\n",
    "y_train = y[idxs]"
   ]
  },
  {
   "cell_type": "code",
   "execution_count": 7,
   "metadata": {
    "collapsed": false
   },
   "outputs": [],
   "source": [
    "cab = ContinuumArmedBandit(X_train, y_train)"
   ]
  },
  {
   "cell_type": "markdown",
   "metadata": {},
   "source": [
    "Test Calculations"
   ]
  },
  {
   "cell_type": "code",
   "execution_count": 8,
   "metadata": {
    "collapsed": false
   },
   "outputs": [],
   "source": [
    "K = cab.gpr.K\n",
    "noise_var = cab.gpr.noise_var\n",
    "N = cab.N\n",
    "a = (K + noise_var * np.eye(N)).dot(y_train)"
   ]
  },
  {
   "cell_type": "code",
   "execution_count": 9,
   "metadata": {
    "collapsed": false
   },
   "outputs": [
    {
     "data": {
      "text/plain": [
       "<bound method KernelOperator.get_params of RBF(length_scale=[0.891, 0.828, 0.963, 0.899, 0.869, 1.14, 0.918, 0.919, 1.02, 0.948, 0.943, 0.808, 0.856, 0.983, 0.872, 1.08, 0.849, 1.08, 1.04, 1.03, 1.18, 1.1, 0.998, 0.863, 0.886, 1.01, 1.03, 0.904, 0.889, 0.885, 0.983, 1.08]) + WhiteKernel(noise_level=3.33e+04)>"
      ]
     },
     "execution_count": 9,
     "metadata": {},
     "output_type": "execute_result"
    }
   ],
   "source": [
    "cab.gpr.kernel_.get_params"
   ]
  },
  {
   "cell_type": "code",
   "execution_count": 10,
   "metadata": {
    "collapsed": false
   },
   "outputs": [
    {
     "data": {
      "text/plain": [
       "array([ 2409.69958734, -1271.77912694,  -165.78419949,  -698.34555632,\n",
       "         840.70808286, -1177.13788567,   293.5653496 ,   361.8193729 ,\n",
       "        -370.73866674,   782.64659419,   -69.16947561,  -573.19520361,\n",
       "         849.33825998,   976.21368472,  -243.68381392,   558.23003724,\n",
       "       -1005.47160274,   749.50062448, -1040.96989933, -1114.10402771,\n",
       "         811.22902488, -1084.98626029,  1076.04725462,  1534.42841523,\n",
       "       -1643.06666926, -1721.6205443 ,   951.13187557,   462.4776406 ,\n",
       "       -1766.79162434,   935.54053407,  1301.03606645,  1823.13202634])"
      ]
     },
     "execution_count": 10,
     "metadata": {},
     "output_type": "execute_result"
    }
   ],
   "source": [
    "cab.select_action()"
   ]
  },
  {
   "cell_type": "code",
   "execution_count": 11,
   "metadata": {
    "collapsed": false
   },
   "outputs": [],
   "source": [
    "idx = np.random.choice(500)\n",
    "x = X[idx]"
   ]
  },
  {
   "cell_type": "code",
   "execution_count": 12,
   "metadata": {
    "collapsed": false
   },
   "outputs": [
    {
     "name": "stdout",
     "output_type": "stream",
     "text": [
      "1.0\n"
     ]
    }
   ],
   "source": [
    "m = cab.get_merit(x,X_train)\n",
    "print(m)"
   ]
  },
  {
   "cell_type": "code",
   "execution_count": 13,
   "metadata": {
    "collapsed": false
   },
   "outputs": [
    {
     "name": "stdout",
     "output_type": "stream",
     "text": [
      "[ 2409.69958734 -1271.77912694  -165.78419949  -698.34555632   840.70808286\n",
      " -1177.13788567   293.5653496    361.8193729   -370.73866674   782.64659419\n",
      "   -69.16947561  -573.19520361   849.33825998   976.21368472  -243.68381392\n",
      "   558.23003724 -1005.47160274   749.50062448 -1040.96989933 -1114.10402771\n",
      "   811.22902488 -1084.98626029  1076.04725462  1534.42841523 -1643.06666926\n",
      " -1721.6205443    951.13187557   462.4776406  -1766.79162434   935.54053407\n",
      "  1301.03606645  1823.13202634]\n"
     ]
    }
   ],
   "source": [
    "x2 = cab.select_action()\n",
    "print(x2)"
   ]
  },
  {
   "cell_type": "code",
   "execution_count": 14,
   "metadata": {
    "collapsed": false
   },
   "outputs": [
    {
     "data": {
      "text/plain": [
       "array([  1.79164113e-15,   1.93492042e-15,  -1.66107935e-15,\n",
       "        -7.95261824e-17,  -2.70420520e-15,   3.87635705e-17,\n",
       "         1.21619915e-15,   2.03270478e-15,  -2.51679242e-16,\n",
       "        -1.11794407e-15,  -8.29071859e-16,  -3.08596577e-15,\n",
       "        -9.69728012e-16,  -3.19840190e-16,   4.89580955e-16,\n",
       "        -3.87310843e-16,   1.93991672e-15,   6.88460753e-16,\n",
       "         1.09993113e-15,  -4.81627162e-16,   1.53324598e-15,\n",
       "         1.06470874e-15,   3.04093921e-15,  -1.07440433e-15,\n",
       "         1.48919272e-15,  -3.27600627e-15,  -4.88688011e-16,\n",
       "        -6.39533185e-17,  -3.13068236e-15,  -5.32234440e-15,\n",
       "        -1.27021415e-15,  -1.44727239e-17])"
      ]
     },
     "execution_count": 14,
     "metadata": {},
     "output_type": "execute_result"
    }
   ],
   "source": [
    "cab.get_derivative_mean(x, X_train)"
   ]
  },
  {
   "cell_type": "code",
   "execution_count": 15,
   "metadata": {
    "collapsed": false
   },
   "outputs": [
    {
     "data": {
      "text/plain": [
       "array([ -7.26117858e-17,  -6.24820205e-17,   1.99306295e-17,\n",
       "         3.06367958e-17,   8.69855984e-17,  -7.34034455e-19,\n",
       "         1.00949853e-17,  -6.43731884e-17,   3.98459937e-17,\n",
       "         3.00973020e-17,   7.60253099e-17,   9.10261722e-17,\n",
       "         5.39047702e-17,   3.13362006e-17,  -4.58488331e-17,\n",
       "         8.79715662e-18,  -6.63881931e-17,  -1.62806948e-17,\n",
       "        -6.56146500e-17,   3.05342032e-17,  -3.84117529e-17,\n",
       "        -4.11564430e-17,  -1.09546210e-16,   8.50485005e-18,\n",
       "        -9.03937483e-17,   9.18524077e-17,   4.05720104e-17,\n",
       "        -1.81697209e-17,   1.14160885e-16,   1.85935601e-16,\n",
       "         6.60591782e-17,   1.59617732e-17])"
      ]
     },
     "execution_count": 15,
     "metadata": {},
     "output_type": "execute_result"
    }
   ],
   "source": [
    "cab.get_derivative_std(x, X_train)"
   ]
  }
 ],
 "metadata": {
  "anaconda-cloud": {},
  "kernelspec": {
   "display_name": "Python [default]",
   "language": "python",
   "name": "python3"
  },
  "language_info": {
   "codemirror_mode": {
    "name": "ipython",
    "version": 3
   },
   "file_extension": ".py",
   "mimetype": "text/x-python",
   "name": "python",
   "nbconvert_exporter": "python",
   "pygments_lexer": "ipython3",
   "version": "3.5.2"
  }
 },
 "nbformat": 4,
 "nbformat_minor": 1
}
