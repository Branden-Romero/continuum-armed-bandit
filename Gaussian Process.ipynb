{
 "cells": [
  {
   "cell_type": "code",
   "execution_count": 1,
   "metadata": {
    "collapsed": true
   },
   "outputs": [],
   "source": [
    "#%load_ext autoreload\n",
    "#%autoreload 2\n",
    "from sklearn import datasets\n",
    "from sklearn import gaussian_process\n",
    "from sklearn import metrics\n",
    "import numpy as np"
   ]
  },
  {
   "cell_type": "markdown",
   "metadata": {},
   "source": [
    "Gaussian Process Regression Test"
   ]
  },
  {
   "cell_type": "code",
   "execution_count": 2,
   "metadata": {
    "collapsed": false
   },
   "outputs": [],
   "source": [
    "X,y = datasets.make_regression(n_samples=500,n_features=32)\n",
    "X_train = X[:400]\n",
    "y_train = y[:400]\n",
    "X_test = X[400:]\n",
    "y_test = y[400:]"
   ]
  },
  {
   "cell_type": "code",
   "execution_count": 19,
   "metadata": {
    "collapsed": false
   },
   "outputs": [
    {
     "name": "stdout",
     "output_type": "stream",
     "text": [
      "[ 1.08974835  0.83262501  0.84894707  0.89471531  1.18264761  1.11711255\n",
      "  0.86094054  0.93801796  0.83972759  1.00083974  1.0040846   0.95205882\n",
      "  1.04525254  0.96845602  0.99364292  0.97577043  1.09790164  1.1157712\n",
      "  0.87411871  0.80999083  0.99561015  1.04821219  0.69891012  1.11962885\n",
      "  0.94067042  0.99771239  0.99202076  0.95867952  1.0223007   1.2344053\n",
      "  0.85247729  0.98653428]\n"
     ]
    }
   ],
   "source": [
    "length_scale = np.random.normal(loc=1.0,scale=.1,size=X.shape[1])\n",
    "print(length_scale)\n",
    "rbf = gaussian_process.kernels.RBF(length_scale=length_scale)\n",
    "c = gaussian_process.kernels.ConstantKernel()\n",
    "K = c * rbf\n",
    "wk = gaussian_process.kernels.WhiteKernel()"
   ]
  },
  {
   "cell_type": "code",
   "execution_count": 21,
   "metadata": {
    "collapsed": false
   },
   "outputs": [
    {
     "data": {
      "text/plain": [
       "GaussianProcessRegressor(alpha=1e-10, copy_X_train=True,\n",
       "             kernel=RBF(length_scale=[1.09, 0.833, 0.849, 0.895, 1.18, 1.12, 0.861, 0.938, 0.84, 1, 1, 0.952, 1.05, 0.968, 0.994, 0.976, 1.1, 1.12, 0.874, 0.81, 0.996, 1.05, 0.699, 1.12, 0.941, 0.998, 0.992, 0.959, 1.02, 1.23, 0.852, 0.987]),\n",
       "             n_restarts_optimizer=0, normalize_y=False,\n",
       "             optimizer='fmin_l_bfgs_b', random_state=None)"
      ]
     },
     "execution_count": 21,
     "metadata": {},
     "output_type": "execute_result"
    }
   ],
   "source": [
    "gpr_1 = gaussian_process.GaussianProcessRegressor(kernel=K)\n",
    "gpr_1.fit(X_train,y_train)\n",
    "gpr_2 = gaussian_process.GaussianProcessRegressor(kernel=None)\n",
    "gpr_2.fit(X_train,y_train)\n",
    "gpr_3 = gaussian_process.GaussianProcessRegressor(kernel=rbf)\n",
    "gpr_3.fit(X_train,y_train)\n",
    "gpr_3 = gaussian_process.GaussianProcessRegressor(kernel=rbf)\n",
    "gpr_3.fit(X_train,y_train)"
   ]
  },
  {
   "cell_type": "code",
   "execution_count": 22,
   "metadata": {
    "collapsed": false
   },
   "outputs": [
    {
     "data": {
      "text/plain": [
       "GaussianProcessRegressor(alpha=1e-10, copy_X_train=True,\n",
       "             kernel=RBF(length_scale=[1.09, 0.833, 0.849, 0.895, 1.18, 1.12, 0.861, 0.938, 0.84, 1, 1, 0.952, 1.05, 0.968, 0.994, 0.976, 1.1, 1.12, 0.874, 0.81, 0.996, 1.05, 0.699, 1.12, 0.941, 0.998, 0.992, 0.959, 1.02, 1.23, 0.852, 0.987]) + WhiteKernel(noise_level=1),\n",
       "             n_restarts_optimizer=0, normalize_y=False,\n",
       "             optimizer='fmin_l_bfgs_b', random_state=None)"
      ]
     },
     "execution_count": 22,
     "metadata": {},
     "output_type": "execute_result"
    }
   ],
   "source": [
    "gpr_4 = gaussian_process.GaussianProcessRegressor(kernel=rbf+wk)\n",
    "gpr_4.fit(X_train,y_train)"
   ]
  },
  {
   "cell_type": "code",
   "execution_count": 23,
   "metadata": {
    "collapsed": false
   },
   "outputs": [
    {
     "name": "stdout",
     "output_type": "stream",
     "text": [
      "{'k2__noise_level_bounds': (1e-05, 100000.0), 'k1__length_scale': array([   4.96302403,    5.49676738,   18.86370117,    2.8279813 ,\n",
      "         13.50801869,    6.21416987,    5.54374472,   11.3741637 ,\n",
      "          3.68564156,    8.34163702,    7.07611101,  207.15820059,\n",
      "          4.43156385,    5.04609107,   17.95659834,    2.88271543,\n",
      "          5.90247136,   30.14218931,   16.52859867,    3.49226262,\n",
      "          6.84976594,    5.97558127,    3.56024845,   43.44039671,\n",
      "         18.20385204,    9.71225509,    3.80495181,    2.87496269,\n",
      "         31.67496035,    3.50239637,   11.74707644,   16.08426345]), 'k1__length_scale_bounds': (1e-05, 100000.0), 'k2__noise_level': 54028.670061433782, 'k1': RBF(length_scale=[4.96, 5.5, 18.9, 2.83, 13.5, 6.21, 5.54, 11.4, 3.69, 8.34, 7.08, 207, 4.43, 5.05, 18, 2.88, 5.9, 30.1, 16.5, 3.49, 6.85, 5.98, 3.56, 43.4, 18.2, 9.71, 3.8, 2.87, 31.7, 3.5, 11.7, 16.1]), 'k2': WhiteKernel(noise_level=5.4e+04)}\n"
     ]
    }
   ],
   "source": [
    "print(gpr_4.kernel_.get_params())"
   ]
  },
  {
   "cell_type": "code",
   "execution_count": 28,
   "metadata": {
    "collapsed": false
   },
   "outputs": [
    {
     "name": "stdout",
     "output_type": "stream",
     "text": [
      "[   4.96302403    5.49676738   18.86370117    2.8279813    13.50801869\n",
      "    6.21416987    5.54374472   11.3741637     3.68564156    8.34163702\n",
      "    7.07611101  207.15820059    4.43156385    5.04609107   17.95659834\n",
      "    2.88271543    5.90247136   30.14218931   16.52859867    3.49226262\n",
      "    6.84976594    5.97558127    3.56024845   43.44039671   18.20385204\n",
      "    9.71225509    3.80495181    2.87496269   31.67496035    3.50239637\n",
      "   11.74707644   16.08426345]\n",
      "54028.6700614\n"
     ]
    }
   ],
   "source": [
    "print(gpr_4.kernel_.get_params()['k1__length_scale'])\n",
    "print(gpr_4.kernel_.get_params()['k2__noise_level'])"
   ]
  },
  {
   "cell_type": "code",
   "execution_count": 24,
   "metadata": {
    "collapsed": false
   },
   "outputs": [
    {
     "name": "stdout",
     "output_type": "stream",
     "text": [
      "0.999988736715\n",
      "-0.00830204805993\n",
      "0.970032735721\n",
      "-0.00801251750995\n"
     ]
    }
   ],
   "source": [
    "print(gpr_1.score(X_test,y_test))\n",
    "print(gpr_2.score(X_test,y_test))\n",
    "print(gpr_3.score(X_test,y_test))\n",
    "print(gpr_4.score(X_test,y_test))"
   ]
  },
  {
   "cell_type": "code",
   "execution_count": 7,
   "metadata": {
    "collapsed": false
   },
   "outputs": [
    {
     "name": "stdout",
     "output_type": "stream",
     "text": [
      "(500,)\n"
     ]
    }
   ],
   "source": [
    "print(gpr_1.kernel_.diag(X).shape)"
   ]
  },
  {
   "cell_type": "code",
   "execution_count": 8,
   "metadata": {
    "collapsed": false
   },
   "outputs": [],
   "source": [
    "k = metrics.pairwise.rbf_kernel"
   ]
  },
  {
   "cell_type": "code",
   "execution_count": 9,
   "metadata": {
    "collapsed": false
   },
   "outputs": [
    {
     "data": {
      "text/plain": [
       "(500, 500)"
      ]
     },
     "execution_count": 9,
     "metadata": {},
     "output_type": "execute_result"
    }
   ],
   "source": [
    "k(X).shape"
   ]
  },
  {
   "cell_type": "code",
   "execution_count": 10,
   "metadata": {
    "collapsed": false
   },
   "outputs": [
    {
     "name": "stdout",
     "output_type": "stream",
     "text": [
      "1.44275349726\n"
     ]
    }
   ],
   "source": [
    "length_scale = gpr_3.kernel_.get_params()['length_scale']\n",
    "kernel_widths = 1.0 / np.power(length_scale, 2)\n",
    "W = np.diag(kernel_widths)\n",
    "a = X[0].T.dot(W).dot(X[0])\n",
    "print(a)"
   ]
  },
  {
   "cell_type": "code",
   "execution_count": 17,
   "metadata": {
    "collapsed": false
   },
   "outputs": [
    {
     "data": {
      "text/plain": [
       "{'k1': 1**2,\n",
       " 'k1__constant_value': 1.0,\n",
       " 'k1__constant_value_bounds': 'fixed',\n",
       " 'k2': RBF(length_scale=1),\n",
       " 'k2__length_scale': 1.0,\n",
       " 'k2__length_scale_bounds': 'fixed'}"
      ]
     },
     "execution_count": 17,
     "metadata": {},
     "output_type": "execute_result"
    }
   ],
   "source": [
    "gpr_2.kernel_.get_params()"
   ]
  },
  {
   "cell_type": "markdown",
   "metadata": {},
   "source": [
    "GPR test"
   ]
  },
  {
   "cell_type": "code",
   "execution_count": 16,
   "metadata": {
    "collapsed": false
   },
   "outputs": [],
   "source": [
    "from continuum_gaussian_bandits import GPR"
   ]
  },
  {
   "cell_type": "code",
   "execution_count": null,
   "metadata": {
    "collapsed": false
   },
   "outputs": [],
   "source": [
    "idxs = np.random.choice(500,25)\n",
    "X_test = X[idxs]\n",
    "y_test = y[idxs]"
   ]
  },
  {
   "cell_type": "code",
   "execution_count": null,
   "metadata": {
    "collapsed": false
   },
   "outputs": [],
   "source": [
    "gpr = GPR(X_test, y_test)"
   ]
  },
  {
   "cell_type": "code",
   "execution_count": null,
   "metadata": {
    "collapsed": false
   },
   "outputs": [],
   "source": [
    "idx = np.random.choice(500,1)\n",
    "x_new = X[idx]\n",
    "y_new = y[idx]"
   ]
  },
  {
   "cell_type": "code",
   "execution_count": null,
   "metadata": {
    "collapsed": true
   },
   "outputs": [],
   "source": [
    "gpr.update(x_new, y_new)"
   ]
  },
  {
   "cell_type": "code",
   "execution_count": null,
   "metadata": {
    "collapsed": false
   },
   "outputs": [],
   "source": [
    "y_test.shape"
   ]
  }
 ],
 "metadata": {
  "anaconda-cloud": {},
  "kernelspec": {
   "display_name": "Python [default]",
   "language": "python",
   "name": "python3"
  },
  "language_info": {
   "codemirror_mode": {
    "name": "ipython",
    "version": 3
   },
   "file_extension": ".py",
   "mimetype": "text/x-python",
   "name": "python",
   "nbconvert_exporter": "python",
   "pygments_lexer": "ipython3",
   "version": "3.5.2"
  }
 },
 "nbformat": 4,
 "nbformat_minor": 1
}
